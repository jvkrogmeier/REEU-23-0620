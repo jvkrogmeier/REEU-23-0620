{
 "cells": [
  {
   "cell_type": "markdown",
   "metadata": {},
   "source": [
    "# Lecture 2\n",
    "\n",
    "(Summer 2023)\n",
    "\n",
    "## Outline of topics for this segment:\n",
    "\n",
    "1. Exercise: Setting up VS Code (Sneha Jha)\n",
    "2. Exercise: Programming the Sieve of Eratosthenes\n",
    "3. The math package\n",
    "4. The NumPy package\n",
    "5. Plotting\n",
    "6. Numpy arrays\n",
    "\n",
    "5. Array indexing\n",
    "6. SciPy and numerical linear algebra\n",
    "7. Least squares\n"
   ]
  },
  {
   "cell_type": "markdown",
   "metadata": {},
   "source": [
    "## 1. Setting up VS Code (Sneha Jha)"
   ]
  },
  {
   "cell_type": "markdown",
   "metadata": {},
   "source": [
    "## A Solution to the Square Root Exercise\n",
    "\n",
    "### Our first solution ...\n",
    "\n",
    "Here is a handy tool for visualizing the operation of a python code block (thanks to Sneha Jha):\n",
    "\n",
    "<a href=\"https://pythontutor.com/visualize.html#mode=edit\" target=\"_blank\">Python Code Visualizer</a>\n"
   ]
  },
  {
   "cell_type": "code",
   "execution_count": null,
   "metadata": {},
   "outputs": [],
   "source": [
    "def BARoot(Z,Guess,K):\n",
    "    i = 1\n",
    "    RootZ = Guess;\n",
    "    while i <= K:\n",
    "        NewRootZ = (RootZ + Z/RootZ)/2;\n",
    "        RootZ = NewRootZ;\n",
    "        i = i + 1\n",
    "    return(RootZ)"
   ]
  },
  {
   "cell_type": "code",
   "execution_count": null,
   "metadata": {},
   "outputs": [],
   "source": [
    "BARoot(10,3,5)"
   ]
  },
  {
   "cell_type": "markdown",
   "metadata": {},
   "source": [
    "### Second solution removes the need for an initial guess and pre-specifying the number of iterations"
   ]
  },
  {
   "cell_type": "code",
   "execution_count": null,
   "metadata": {},
   "outputs": [],
   "source": [
    "# Z is the positive number for which we want the square root. epsilon\n",
    "# is the tolerance in the accuracy of the result.\n",
    "\n",
    "def Newtroot(Z,epsilon):\n",
    "    x = 1\n",
    "    xp = (x + Z/x)/2\n",
    "    e = (xp - x)/x\n",
    "    while (e > epsilon) or (-epsilon > e):\n",
    "        x = xp\n",
    "        xp = (x + Z/x)/2\n",
    "        e = (xp - x)/x\n",
    "    return xp"
   ]
  },
  {
   "cell_type": "code",
   "execution_count": null,
   "metadata": {},
   "outputs": [],
   "source": [
    "# Example of the square root algorithm\n",
    "\n",
    "z = 10\n",
    "epsilon = 1e-12\n",
    "\n",
    "print(Newtroot(z,epsilon))"
   ]
  },
  {
   "cell_type": "code",
   "execution_count": null,
   "metadata": {},
   "outputs": [],
   "source": []
  },
  {
   "cell_type": "markdown",
   "metadata": {},
   "source": [
    "## 2. Exercise: Implement the Sieve of Eratosthenes\n",
    "\n",
    "Sift the Twos and Sift the Threes,\n",
    "The Sieve of Eratosthenes.\n",
    "When the multiples sublime,\n",
    "The numbers that remain are Prime.\n",
    "\n",
    "Here in words is the algorithm. n is an integer greater than 2. The algorithm finds all the primes less than or equal to n. Remember that 1 is not a prime (on a technicality), 2 is a prime and the only even prime, 3 is prime, etc.\n",
    "\n",
    "1. Create a list of consecutive integers from 2 to n: (2, 3, 4, ..., n)\n",
    "2. Let p = 2 to start. p is prime.\n",
    "3. Remove all the multiples 2p, 3p, 4p, etc. from the list\n",
    "4. Find the next largest number in the new list and call it p. This number will be prime.\n",
    "5. Repeat steps 3 and 4 until all the numbers in the list have either been marked as prime or removed.\n",
    "\n",
    "Notice that the algorithm does not need to check for any p's greater than the square root of n (hence you could use the square root function created previously to limit the search here).\n",
    "\n",
    "There is a Wikipedia page and many youtube links of interest: <a href=\"\n",
    "https://en.wikipedia.org/wiki/Sieve_of_Eratosthenes\" target=\"_blank\">Sieve of Eratosthenes</a>\n",
    "\n",
    "Watch this video:\n",
    "\n",
    "<a href=\"https://www.youtube.com/watch?v=Lj_SzTGr-G4\" target=\"_blank\">Sieve of Eratosthenes by Eddie Woo</a>"
   ]
  },
  {
   "cell_type": "markdown",
   "metadata": {},
   "source": [
    "### Solution Framework\n",
    "\n",
    "You need a data structure to hold the sequence of potential prime numbers. Suggest using a list. Here are some python commands that might be useful:\n",
    "\n",
    "`range`, `list`\n",
    "\n",
    "Use the Newtroot function defined above to limit the search for primes less than or equal to a given integer.\n",
    "\n",
    "Use a while loop to step through the list and use the `.remove` method to delete multiples of a prime from the list of potential primes."
   ]
  },
  {
   "cell_type": "markdown",
   "metadata": {},
   "source": [
    "### Here is some code that might be useful in making the desired function ..."
   ]
  },
  {
   "cell_type": "code",
   "execution_count": null,
   "metadata": {},
   "outputs": [],
   "source": [
    "# Pick an example integer ...\n",
    "n = 15;\n",
    "\n",
    "# The range function returns a sequence of numbers starting with 0, incrementing by 1, and ending\n",
    "# at a certain integer.\n",
    "\n",
    "y = range(n) # This should represent 0, 1, 2, ... n-1\n",
    "\n",
    "# Check that the range produced what we wanted by printing the numbers out ...\n",
    "\n",
    "for k in y:\n",
    "    print(k)\n"
   ]
  },
  {
   "cell_type": "markdown",
   "metadata": {},
   "source": [
    "Now if we were wanting to use range to create the initial list of prime numbers, we don't really want 0 or 1 in it, since they are not prime. So we can use the non-default version of range ..."
   ]
  },
  {
   "cell_type": "code",
   "execution_count": null,
   "metadata": {},
   "outputs": [],
   "source": [
    "# This changes the starting point and makes sure that n is actually in the list ...\n",
    "\n",
    "y = range(2,n+1)\n",
    "\n",
    "# Check by printing the numbers out ...\n",
    "\n",
    "for k in y:\n",
    "    print(k)"
   ]
  },
  {
   "cell_type": "markdown",
   "metadata": {},
   "source": [
    "This definitely creates the initial sequence of numbers to check for primes. However, it is not a good data structure for modifying/deleting multiples. This is because `range` is not the same as a sequence of numbers, e.g., it is not an array. Range is unchangeable. The `list` structure will be better for this ..."
   ]
  },
  {
   "cell_type": "code",
   "execution_count": null,
   "metadata": {},
   "outputs": [],
   "source": [
    "# But you can create such a list from a range as below ...\n",
    "\n",
    "y = list(range(2,n+1));\n",
    "\n",
    "print(type(y))\n",
    "\n",
    "print(y)"
   ]
  },
  {
   "cell_type": "code",
   "execution_count": null,
   "metadata": {},
   "outputs": [],
   "source": [
    "# List has a handy method to remove items.\n",
    "\n",
    "y.remove(4)\n",
    "\n",
    "print(y)"
   ]
  },
  {
   "cell_type": "markdown",
   "metadata": {},
   "source": [
    "If you try to remove an item twice from a list, you will get an error. Since the sieve of eratosthenes algorithm might actually do this, one should check if the item is there before trying to remove it."
   ]
  },
  {
   "cell_type": "code",
   "execution_count": null,
   "metadata": {},
   "outputs": [],
   "source": [
    "# But if you try to remove something that is not there, it will throw an error ...\n",
    "\n",
    "y.remove(4)"
   ]
  },
  {
   "cell_type": "code",
   "execution_count": null,
   "metadata": {},
   "outputs": [],
   "source": []
  },
  {
   "cell_type": "markdown",
   "metadata": {},
   "source": [
    "### Pseudo Code for the Sieve ...\n",
    "\n",
    "The sieve code needs to step through the potential primes list marking the proved primes and removing their multiples from the list"
   ]
  },
  {
   "cell_type": "code",
   "execution_count": null,
   "metadata": {},
   "outputs": [],
   "source": [
    "# This code won't run because it is not complete ...\n",
    "\n",
    "# Our square root function from before ...\n",
    "def Newtroot(z,epsilon):\n",
    "    x = 1\n",
    "    xp = (x + z/x)/2\n",
    "    e = (xp - x)/x\n",
    "    while (e > epsilon) or (-epsilon > e):\n",
    "        x = xp\n",
    "        xp = (x + z/x)/2\n",
    "        e = (xp - x)/x\n",
    "    return xp    \n",
    "\n",
    "def SieveOfE(n):\n",
    "    primelist = # use list and range to make the initial list\n",
    "    limit = Newtroot(n,1e-12); # Just using the square root function made before to limit the search length\n",
    "    j = 0\n",
    "    while j <= limit:\n",
    "        p = primelist[j]\n",
    "        # Put some code in here to remove the multiples of p from primelist\n",
    "        # Use primelist.remove\n",
    "        \n",
    "        j = j + 1; # At this stage the next element in primelist will be a prime number\n",
    "        \n",
    "        return primelist"
   ]
  },
  {
   "cell_type": "code",
   "execution_count": null,
   "metadata": {},
   "outputs": [],
   "source": []
  },
  {
   "cell_type": "code",
   "execution_count": null,
   "metadata": {},
   "outputs": [],
   "source": []
  },
  {
   "cell_type": "markdown",
   "metadata": {},
   "source": [
    "# Solution to Sieve of Eratosthenes ..."
   ]
  },
  {
   "cell_type": "code",
   "execution_count": null,
   "metadata": {},
   "outputs": [],
   "source": []
  },
  {
   "cell_type": "code",
   "execution_count": null,
   "metadata": {},
   "outputs": [],
   "source": []
  },
  {
   "cell_type": "code",
   "execution_count": null,
   "metadata": {},
   "outputs": [],
   "source": []
  },
  {
   "cell_type": "code",
   "execution_count": null,
   "metadata": {},
   "outputs": [],
   "source": []
  },
  {
   "cell_type": "code",
   "execution_count": null,
   "metadata": {},
   "outputs": [],
   "source": []
  },
  {
   "cell_type": "code",
   "execution_count": null,
   "metadata": {},
   "outputs": [],
   "source": []
  },
  {
   "cell_type": "markdown",
   "metadata": {},
   "source": [
    "## 3. The Math Package\n",
    "\n",
    "Python provides many modules designed for specialized programming tasks. See: <a href=\"https://pypi.org\" target=\"_blank\">The Python Package Index</a>.\n",
    "\n",
    "The math package contains trigonometric, exponential, logarithmic, hyperbolic, and special functions. It also contains a number of useful constants such as `pi` and `e`.\n",
    "\n",
    "### Recall our homemade square root function ..."
   ]
  },
  {
   "cell_type": "code",
   "execution_count": null,
   "metadata": {},
   "outputs": [],
   "source": [
    "# A solution to the HW problem of the last class is the function ...\n",
    "def Newtroot(z,epsilon):\n",
    "    x = 1\n",
    "    xp = (x + z/x)/2\n",
    "    e = (xp - x)/x\n",
    "    while (e > epsilon) or (-epsilon > e):\n",
    "        x = xp\n",
    "        xp = (x + z/x)/2\n",
    "        e = (xp - x)/x\n",
    "    return xp    "
   ]
  },
  {
   "cell_type": "markdown",
   "metadata": {},
   "source": [
    "### The math package also has a square root function ..."
   ]
  },
  {
   "cell_type": "code",
   "execution_count": null,
   "metadata": {},
   "outputs": [],
   "source": [
    "# This command fetches the math package and makes it available to the python program we are running\n",
    "\n",
    "import math\n",
    "\n",
    "# Now compute the square root of 10 in two ways ...\n",
    "\n",
    "print(\"Homemade square root:\", Newtroot(10,1e-8))\n",
    "print(\"Math package square root:\", math.sqrt(10))"
   ]
  },
  {
   "cell_type": "markdown",
   "metadata": {},
   "source": [
    "### It might be interesting to compare the speeds of the two square root functions ...\n",
    "\n",
    "For this python provides two commands for profiling and timing python code\n",
    "\n",
    "* `%time` = time the execution of a single statement\n",
    "* `%timeit` = time the execution of a single statement by averaging"
   ]
  },
  {
   "cell_type": "code",
   "execution_count": null,
   "metadata": {},
   "outputs": [],
   "source": [
    "%timeit Newtroot(10,1e-8)"
   ]
  },
  {
   "cell_type": "code",
   "execution_count": null,
   "metadata": {},
   "outputs": [],
   "source": [
    "%timeit math.sqrt(10)"
   ]
  },
  {
   "cell_type": "markdown",
   "metadata": {},
   "source": [
    "### The math package square root is ten times faster!\n",
    "\n",
    "### The math package defines important constants ...\n",
    "\n",
    "`math.pi`, `math.e`"
   ]
  },
  {
   "cell_type": "code",
   "execution_count": null,
   "metadata": {},
   "outputs": [],
   "source": [
    "print(\"The ratio of of circumference to diameter of a circle is:\", math.pi)\n",
    "print(\"The base of the natural logarithm is:\", math.e)"
   ]
  },
  {
   "cell_type": "markdown",
   "metadata": {},
   "source": [
    "### Formating printing ...\n",
    "We notice that python prints many digits of precision when we print a floating \n",
    "point number. And while that may make sense when printing mathematical constants,\n",
    "it is usually a distraction in engineering problems because it implies a\n",
    "numerical certainty that is typically not available.\n",
    "\n",
    "For example, if we print a sine table ..."
   ]
  },
  {
   "cell_type": "code",
   "execution_count": null,
   "metadata": {},
   "outputs": [],
   "source": [
    "# This short program will print a table with 50 rows where\n",
    "# each row contains an argument and the sine of the argument.\n",
    "# The sine function will trace one complete period of length\n",
    "# 2*pi.\n",
    "P = math.pi;\n",
    "N = 50;\n",
    "for k in range(N):\n",
    "    t = 2*P*k/N;\n",
    "    print(t, math.sin(t))"
   ]
  },
  {
   "cell_type": "markdown",
   "metadata": {},
   "source": [
    "### Table above is very difficult to read ...\n",
    "\n",
    "## There are several ways to format printing\n"
   ]
  },
  {
   "cell_type": "code",
   "execution_count": null,
   "metadata": {},
   "outputs": [],
   "source": [
    "# Compare two ways of printing pi\n",
    "print('The value of pi is approximately', P)\n",
    "print()\n",
    "print(f'The value of pi is approximately {math.pi:.3f}')"
   ]
  },
  {
   "cell_type": "code",
   "execution_count": null,
   "metadata": {},
   "outputs": [],
   "source": [
    "# Prettier sine wave table.\n",
    "N = 50;\n",
    "for k in range(N):\n",
    "    t = 2*P*k/N;\n",
    "    print(f'{t:1.2f}   {math.sin(t):.3f}')"
   ]
  },
  {
   "cell_type": "markdown",
   "metadata": {},
   "source": [
    "### Notice how the negative sign causes the table to shift over. I do not like!\n",
    "\n",
    "There is material on string formatting found at ...\n",
    "<a href=\"https://https://docs.python.org/3/tutorial/inputoutput.html\" target=\"_blank\">Python.org on Input and Output.</a>\n",
    "\n",
    "But in short the format is:\n",
    "`{:[align] [minimum_width] [.precision] [descriptor]}`\n",
    "\n",
    "The square brackets indicate optional arguments. The minimum width and .precision are numbers. The allowed descriptors include\n",
    "* `s` --- string\n",
    "* `d` --- decimal integer\n",
    "* `f` --- floating point decimal\n",
    "\n",
    "The align options are\n",
    "* `>` --- right justify\n",
    "* `<` --- left justify\n",
    "* `^` --- center\n",
    "\n",
    "Then to fix the previous sine table to make it completely satifying we use right justify, a minimum width of spaces, and a precision of three decimal places."
   ]
  },
  {
   "cell_type": "code",
   "execution_count": null,
   "metadata": {},
   "outputs": [],
   "source": [
    "# Prettier sine wave table.\n",
    "N = 50;\n",
    "for k in range(N):\n",
    "    t = 2*P*k/N;\n",
    "    print(f'{t:1.2f}   {math.sin(t):>6.3f}')"
   ]
  },
  {
   "cell_type": "code",
   "execution_count": null,
   "metadata": {},
   "outputs": [],
   "source": []
  },
  {
   "cell_type": "markdown",
   "metadata": {},
   "source": [
    "## 4. The Numpy Package"
   ]
  },
  {
   "cell_type": "markdown",
   "metadata": {},
   "source": [
    "All data manipulated by a computer is represented in binary. In otherwords, via one method or another, all data -- temperature sensor readings, hourly barometric pressure from your Davis weather station, an audio file, images from your Bushnell game camera, a yield map -- are represented as arrays of numbers.\n",
    "\n",
    "**NumPy (Numerical Python)** provides an efficient interface to store and compute on dense data buffers. NumPy arrays are much more efficient than Python's built-in list data type.\n",
    "\n",
    "See: <a href=\"http://www.numpy.org\" target=\"_blank\">The Numpy Package</a>."
   ]
  },
  {
   "cell_type": "code",
   "execution_count": null,
   "metadata": {},
   "outputs": [],
   "source": [
    "# Import the numpy package. This command allows us to refer to numpy\n",
    "# commands using the shorthand \"np\".\n",
    "import numpy as np\n",
    "\n",
    "# Which version of numpy are we running ...\n",
    "np.__version__"
   ]
  },
  {
   "cell_type": "code",
   "execution_count": null,
   "metadata": {},
   "outputs": [],
   "source": []
  },
  {
   "cell_type": "markdown",
   "metadata": {},
   "source": [
    "## 5. Plotting with Matplotlib Package\n",
    "\n",
    "### The Examples Book has a nice section on `matplotlib` ...\n",
    "\n",
    "<a href=\"https://the-examples-book.com/programming-languages/python/matplotlib\" target=\"_blank\">Matplotlib.</a>\n",
    "\n",
    "Please read this now ..."
   ]
  },
  {
   "cell_type": "code",
   "execution_count": null,
   "metadata": {},
   "outputs": [],
   "source": [
    "# Import matplotlib and define a shorthand\n",
    "import matplotlib as mpl\n",
    "import matplotlib.pyplot as plt"
   ]
  },
  {
   "cell_type": "code",
   "execution_count": null,
   "metadata": {},
   "outputs": [],
   "source": [
    "# Example data to make a plot\n",
    "x = np.array([1, 2, 3, 4, 5, 6, 7, 8, 9, 10]);  # Independent variable in the plot\n",
    "y = np.array([3, 1, 6, 5, 4, 11, -1, 1, 2, 6]); # The dependent variable in the plot\n",
    "\n",
    "# The commands for plotting y vs. x and formatting axes, etc.\n",
    "fig = plt.figure()\n",
    "plt.style.use('classic')\n",
    "plt.plot(x, y)\n",
    "plt.title(\"Example Plot\")\n",
    "plt.xlabel(\"x\")\n",
    "plt.ylabel(\"y\")\n",
    "plt.grid()"
   ]
  },
  {
   "cell_type": "code",
   "execution_count": null,
   "metadata": {},
   "outputs": [],
   "source": [
    "# Just another example plot\n",
    "x = np.linspace(0, 10, 100)\n",
    "fig2 = plt.figure()\n",
    "plt.style.use('seaborn-dark-palette')\n",
    "plt.plot(x, np.sin(x))\n",
    "plt.plot(x, np.cos(x))\n",
    "plt.grid()"
   ]
  },
  {
   "cell_type": "markdown",
   "metadata": {},
   "source": [
    "## United states wheat yield trends as a plotting example ...\n",
    "\n",
    "Data was obtained from the United States Department of Agriculture: <a href=\"https://quickstats.nass.usda.gov/\" target=\"_blank\">Quick Stats</a> (The USDA's National Ag Statistics Service -- we might make more use of this data source later)"
   ]
  },
  {
   "cell_type": "code",
   "execution_count": null,
   "metadata": {},
   "outputs": [],
   "source": [
    "# The years for which we have average wheat yield data.\n",
    "wdates = np.array([2021, 2020, 2019, 2018, 2017, 2016, 2015, 2014, 2013, 2012, 2011, 2010, 2009, 2008, 2007, 2006, \n",
    "                   2005, 2004, 2003, 2002, 2001, 2000,1999, 1998, 1997, 1996, 1995, 1994, 1993, 1992, 1991, 1990, \n",
    "                   1989, 1988, 1987, 1986, 1985, 1984, 1983, 1982, 1981, 1980, 1979, 1978, 1977, 1976, 1975, 1974, \n",
    "                   1973, 1972, 1971, 1970, 1969, 1968, 1967,1966, 1965, 1964, 1963, 1962, 1961, 1960, 1959, 1958, \n",
    "                   1957, 1956, 1955, 1954, 1953, 1952, 1951, 1950, 1949, 1948, 1947, 1946, 1945,1944, 1943, 1942, \n",
    "                   1941, 1940, 1939, 1938, 1937, 1936, 1935, 1934, 1933, 1932, 1931, 1930, 1929, 1928, 1927, 1926, \n",
    "                   1925, 1924, 1923,1922, 1921, 1920, 1919, 1918, 1917, 1916, 1915, 1914, 1913, 1912,1911, 1910, \n",
    "                   1909, 1908, 1907, 1906, 1905, 1904, 1903, 1902, 1901,1900, 1899, 1898, 1897, 1896, 1895, 1894, \n",
    "                   1893, 1892, 1891, 1890,1889, 1888, 1887, 1886, 1885, 1884, 1883, 1882, 1881, 1880, 1879,1878, \n",
    "                   1877, 1876, 1875, 1874, 1873, 1872, 1871, 1870, 1869, 1868, 1867, 1866])"
   ]
  },
  {
   "cell_type": "code",
   "execution_count": null,
   "metadata": {},
   "outputs": [],
   "source": [
    "# The average wheat yield data in the order to line up with the corresponding years.\n",
    "wyields = np.array([44.5, 49.7, 51.7, 47.6, 46.4, 52.7, 43.6, 43.7, 47.1, 46.2, 43.6, 46.1, 44.3, 44.8, 40.2, \n",
    "                    38.6, 42. , 43.2, 44.2, 35. , 40.2, 42. , 42.7, 43.2, 39.5, 36.3, 35.8, 37.6, 38.2, 39.3, \n",
    "                    34.3, 39.5, 32.7, 34.1, 37.7, 34.4, 37.5, 38.8, 39.4, 35.5, 34.5, 33.5, 34.2, 31.4, 30.7, \n",
    "                    30.3, 30.6, 27.3, 31.6, 32.7, 33.9, 31. , 30.6, 28.4, 25.8, 26.3, 26.5, 25.8, 25.2, 25. , \n",
    "                    23.9, 26.1, 21.6, 27.5, 21.8, 20.2, 19.8, 18.1, 17.3, 18.4, 16. , 16.5, 14.5, 17.9, 18.2, \n",
    "                    17.2, 17. , 17.7, 16.4, 19.5, 16.8, 15.3, 14.1, 13.3, 13.6, 12.8, 12.2, 12.1, 11.2, 13.1, \n",
    "                    16.3, 14.2, 13. , 15.4, 14.7, 14.7, 12.8, 16. , 13.3, 13.8, 12.7, 13.5, 12.9, 14.8, 13.2, \n",
    "                    11.9, 16.7, 16.1, 14.4, 15.1, 12.4, 13.7, 15.5, 14.3, 14.2, 16. , 15.2, 12.9, 13.7, 14.9, \n",
    "                    15. , 12.2, 12.5, 15.2, 14. , 12.8, 13.9, 13.5, 12.4, 14.2, 16.5, 12.2, 14. , 12.1, 13.3, \n",
    "                    14.1, 11.4, 14.8, 12.3, 15.1, 11. , 13.2, 13. , 13.5, 14.1, 10.9, 11.1, 13. , 12.9, 11.8, \n",
    "                    12.2, 12.1, 13.7, 12.9, 12.6, 11. ])"
   ]
  },
  {
   "cell_type": "code",
   "execution_count": null,
   "metadata": {},
   "outputs": [],
   "source": [
    "# Plotting the wheat yield trend\n",
    "fig3 = plt.figure()\n",
    "plt.style.use('classic')\n",
    "plt.plot(wdates, wyields)\n",
    "plt.title(\"United States Average Wheat Yield by Year\")\n",
    "plt.xlabel(\"Year\")\n",
    "plt.ylabel(\"Yield in bushels per acre\")\n",
    "plt.grid()"
   ]
  },
  {
   "cell_type": "code",
   "execution_count": null,
   "metadata": {},
   "outputs": [],
   "source": []
  },
  {
   "cell_type": "markdown",
   "metadata": {},
   "source": [
    "## 6. Exercise: Plot Corn Yield Data along with Wheat Yield Data. \n",
    "\n",
    "### Use the corn yield data given below to plot the corn and wheat yield trends on the same axes.\n",
    "\n",
    "Read the tutorial material on plotting ...\n",
    "\n",
    "<a href=\"https://matplotlib.org/stable/tutorials/index.html\" target=\"_blank\">Matplotlib.org</a>\n",
    "\n",
    "### Experiment with the line colors, labels, legends, etc.\n",
    "\n",
    "### Estimate from the plot the trend in wheat and corn yield improvement over time. When did the trend start? Google around to find out about this yield improvement."
   ]
  },
  {
   "cell_type": "code",
   "execution_count": null,
   "metadata": {},
   "outputs": [],
   "source": [
    "cdates = np.array([2021, 2020, 2019, 2018, 2017, 2016, 2015, 2014, 2013, 2012, 2011, 2010, 2009, 2008, 2007, 2006, \n",
    "                   2005, 2004, 2003, 2002, 2001, 2000, 1999, 1998, 1997, 1996, 1995, 1994, 1993, 1992, 1991, 1990, \n",
    "                   1989, 1988, 1987, 1986, 1985, 1984, 1983, 1982, 1981, 1980, 1979, 1978, 1977, 1976, 1975, 1974, \n",
    "                   1973, 1972, 1971, 1970, 1969, 1968, 1967, 1966, 1965, 1964, 1963, 1962, 1961, 1960, 1959, 1958, \n",
    "                   1957, 1956, 1955, 1954, 1953, 1952, 1951, 1950, 1949, 1948, 1947, 1946, 1945, 1944, 1943, 1942, \n",
    "                   1941, 1940, 1939, 1938, 1937, 1936, 1935, 1934, 1933, 1932, 1931, 1930, 1929, 1928, 1927, 1926, \n",
    "                   1925, 1924, 1923, 1922, 1921, 1920, 1919, 1918, 1917, 1916, 1915, 1914, 1913, 1912, 1911, 1910, \n",
    "                   1909, 1908, 1907, 1906, 1905, 1904, 1903, 1902, 1901, 1900, 1899, 1898, 1897, 1896, 1895, 1894, \n",
    "                   1893, 1892, 1891, 1890, 1889, 1888, 1887, 1886, 1885, 1884, 1883, 1882, 1881, 1880, 1879, 1878, \n",
    "                   1877, 1876, 1875, 1874, 1873, 1872, 1871, 1870, 1869, 1868, 1867, 1866])\n",
    "\n",
    "cyields = np.array([176.3, 172, 167.5, 176.4, 176.6, 174.6, 168.4, 171, 158.1, 123.1, 146.8, 152.6, 164.4, \n",
    "                    153.3, 150.7, 149.1, 147.9, 160.3, 142.2, 129.3, 138.2, 136.9, 133.8, 134.4, 126.7, \n",
    "                    127.1, 113.5, 138.6, 100.7, 131.5, 108.6, 118.5, 116.3, 84.6, 119.8, 119.4, 118, 106.7, \n",
    "                    81.1, 113.2, 108.9, 91, 109.5, 101, 90.8, 88, 86.4, 71.9, 91.3, 97, 88.1, 72.4, 85.9, 79.5, 80.1,\n",
    "                    73.1, 74.1, 62.9, 67.9, 64.7, 62.4, 54.7, 53.1, 52.8, 48.3, 47.4, 42, 39.4, 40.7, 41.8, 36.9, \n",
    "                    38.2, 38.2, 43, 28.6, 37.2, 33.1, 33, 32.6, 35.4, 31.2, 28.9, 29.9, 27.8, 28.9, 18.6, 24.2, \n",
    "                    18.7, 22.8, 26.5, 24.5, 20.5, 25.7, 26.3, 26.4, 25.7, 27.4, 22.1, 27.8, 26.3, 27.8, 29.9, 26.8, \n",
    "                    23.9, 26.2, 24.1, 28.1, 25.8, 22.7, 29.1, 24.4, 27.9, 26.1, 26.9, 27.2, 31.7, 30.9, 28.2, 26.9, \n",
    "                    28.5, 18.2, 28.1, 28, 26.8, 25.4, 30, 28, 20.2, 23.8, 24.7, 29.6, 22.1, 29.5, 29.1, 21.9, 24.1, \n",
    "                    28.6, 28.3, 24.2, 26.5, 19.8, 27.3, 28.2, 26.2, 25.8, 26.7, 27.7, 22.2, 22.9, 29.4, 27.2, 29.3, \n",
    "                    21.8, 26.2, 24.7, 24.3])"
   ]
  },
  {
   "cell_type": "code",
   "execution_count": null,
   "metadata": {},
   "outputs": [],
   "source": []
  },
  {
   "cell_type": "code",
   "execution_count": null,
   "metadata": {},
   "outputs": [],
   "source": []
  },
  {
   "cell_type": "markdown",
   "metadata": {},
   "source": [
    "## Solution .... "
   ]
  },
  {
   "cell_type": "code",
   "execution_count": null,
   "metadata": {},
   "outputs": [],
   "source": []
  },
  {
   "cell_type": "code",
   "execution_count": null,
   "metadata": {},
   "outputs": [],
   "source": []
  },
  {
   "cell_type": "code",
   "execution_count": null,
   "metadata": {},
   "outputs": [],
   "source": []
  },
  {
   "cell_type": "code",
   "execution_count": null,
   "metadata": {},
   "outputs": [],
   "source": []
  },
  {
   "cell_type": "code",
   "execution_count": null,
   "metadata": {},
   "outputs": [],
   "source": []
  },
  {
   "cell_type": "code",
   "execution_count": null,
   "metadata": {},
   "outputs": [],
   "source": []
  },
  {
   "cell_type": "markdown",
   "metadata": {},
   "source": [
    "### Here is an interesting article ...\n",
    "\n",
    "<a href=\"https://www.agry.purdue.edu/ext/corn/news/timeless/yieldtrends.html#:~:text=Rapid%20adoption%20of%20double%2Dcross,grain%20yield%20improvement%20had%20occurred.\" target=\"_blank\">Corny News Network.</a>\n",
    "\n"
   ]
  },
  {
   "cell_type": "code",
   "execution_count": null,
   "metadata": {},
   "outputs": [],
   "source": []
  },
  {
   "cell_type": "markdown",
   "metadata": {},
   "source": [
    "## C integers vs. Python integers\n",
    "\n",
    "A C integer is essentially a label for a position in memory whose bytes encode an \n",
    "integer value.\n",
    "\n",
    "A Python integer is a label for a position in memory containing a C structure that \n",
    "contains the Python object information including the bytes that encode the integer \n",
    "value."
   ]
  },
  {
   "cell_type": "code",
   "execution_count": null,
   "metadata": {},
   "outputs": [],
   "source": [
    "# L is an integer. Let's see how many bytes it requires (a byte is 8 bits)\n",
    "# sys.getsizeof() returns the number of bytes needed to encode \n",
    "# the object\n",
    "\n",
    "import sys\n",
    "\n",
    "L = 1\n",
    "print(L)\n",
    "print(type(L))\n",
    "\n",
    "\n",
    "print(f'The number of bytes needed to store this variable is {sys.getsizeof(L)}')"
   ]
  },
  {
   "cell_type": "markdown",
   "metadata": {},
   "source": [
    "**For information** about the `sys` package see: <a href=\"https://docs.python.org/3/library/sys.html\" target=\"_blank\">System-specific parameters and functions</a>.\n",
    "\n",
    "The size of a python integer is **not** strongly related to the size of the integer. This is an indication of the overhead associated with the representation. For example ..."
   ]
  },
  {
   "cell_type": "code",
   "execution_count": null,
   "metadata": {},
   "outputs": [],
   "source": [
    "print('Decimal Integer Hex Integer #Bytes Needed to Store')\n",
    "print('_______________ ___________ ______________________')\n",
    "\n",
    "for k in range(0,40):\n",
    "    L = 2**k\n",
    "    print(f'{L:12d}    {hex(L):12s}       {sys.getsizeof(L)}')"
   ]
  },
  {
   "cell_type": "markdown",
   "metadata": {},
   "source": [
    "## How about string variables?"
   ]
  },
  {
   "cell_type": "code",
   "execution_count": null,
   "metadata": {},
   "outputs": [],
   "source": [
    "L = \"1\"\n",
    "print(L)\n",
    "print(type(L))\n",
    "print(f'The number of bytes needed to store this variable is {sys.getsizeof(L)}')"
   ]
  },
  {
   "cell_type": "code",
   "execution_count": null,
   "metadata": {},
   "outputs": [],
   "source": [
    "print('String         #Bytes Needed to Store')\n",
    "print('______________ ______________________')\n",
    "\n",
    "L = \"1\"\n",
    "for k in range(0,20):\n",
    "    print(f'{L:20s}      {sys.getsizeof(L)}')\n",
    "    L = L + '1'\n"
   ]
  },
  {
   "cell_type": "markdown",
   "metadata": {},
   "source": [
    "## Now for Lists, Arrays, Numpy Arrays ..."
   ]
  },
  {
   "cell_type": "code",
   "execution_count": null,
   "metadata": {},
   "outputs": [],
   "source": [
    "L1 = list(range(20))\n",
    "print(L1)\n",
    "print(type(L1))\n",
    "print(type(L1[0]))\n",
    "print(sys.getsizeof(L1))"
   ]
  },
  {
   "cell_type": "code",
   "execution_count": null,
   "metadata": {},
   "outputs": [],
   "source": [
    "L2 = [str(c) for c in L1]\n",
    "print(L2)\n",
    "print(type(L2))\n",
    "print(type(L2[0]))\n",
    "print(sys.getsizeof(L2))"
   ]
  },
  {
   "cell_type": "code",
   "execution_count": null,
   "metadata": {},
   "outputs": [],
   "source": [
    "# Comparing Python list and Python array\n",
    "\n",
    "import array\n",
    "L = list(range(100))\n",
    "A = array.array('i',L)\n",
    "\n",
    "print(A)\n",
    "print(type(A))\n",
    "print(type(A[0]))\n",
    "print(sys.getsizeof(A))\n",
    "\n",
    "print(\"\\n\")\n",
    "\n",
    "print(L)\n",
    "print(type(L))\n",
    "print(type(L[0]))\n",
    "print(sys.getsizeof(L))"
   ]
  },
  {
   "cell_type": "markdown",
   "metadata": {},
   "source": [
    "The python array is **more efficient for storage** than is the python list because overhead can be reduced given all the elements in the array are of the same type.\n",
    "\n",
    "### Numpy array vs. array wrt storage ..."
   ]
  },
  {
   "cell_type": "code",
   "execution_count": null,
   "metadata": {},
   "outputs": [],
   "source": [
    "# The Python array object offers (more) efficient storage of array-based data than does \n",
    "# the list object. Numpy arrays also add efficient computations on that data.\n",
    "\n",
    "ND = np.array(L) # np.array is used to create an ndarray from a Python list\n",
    "print(ND)\n",
    "print(type(ND))\n",
    "print(sys.getsizeof(ND))\n",
    "print(\"itemsize:\", ND.itemsize, \"bytes\")\n",
    "print(\"nbytes:\", ND.nbytes, \"bytes\")"
   ]
  },
  {
   "cell_type": "markdown",
   "metadata": {},
   "source": [
    "**Note** the numpy array at 896 bytes comes in between the list at 1008 bytes and the array at 464 bytes. Numpy gets its advantage from computation.\n",
    "\n",
    "## Computation Comparisons ...\n",
    "\n",
    "Make some arrays of reasonable length and then square the elements in each using `for` loops and comparing to numpy's built in `ufuncs`."
   ]
  },
  {
   "cell_type": "code",
   "execution_count": null,
   "metadata": {},
   "outputs": [],
   "source": [
    "# Make a plain python array and then square the elements using a for loop ...\n",
    "A = array.array('i', range(1000))\n",
    "\n",
    "%timeit A2 = [A[k]**2 for k in range(1000)]\n",
    "\n",
    "A2 = [A[k]**2 for k in range(1000)]\n",
    "\n",
    "print(A2)"
   ]
  },
  {
   "cell_type": "code",
   "execution_count": null,
   "metadata": {},
   "outputs": [],
   "source": [
    "# Make a numpy python array and then square the elements using a for loop ...\n",
    "ND = np.array(range(1000))\n",
    "\n",
    "%timeit ND2_v1 = [ND[k]**2 for k in range(1000)]\n",
    "\n",
    "ND2_v1 = [ND[k]**2 for k in range(1000)]\n",
    "\n",
    "print(ND2_v1)"
   ]
  },
  {
   "cell_type": "code",
   "execution_count": null,
   "metadata": {},
   "outputs": [],
   "source": [
    "%timeit ND_v2 = np.multiply(ND,ND)\n",
    "\n",
    "ND_v2 = np.multiply(ND,ND)\n",
    "\n",
    "print(ND_v2)"
   ]
  },
  {
   "cell_type": "markdown",
   "metadata": {},
   "source": [
    "### The squaring of the numpy array elements using the `ufunc` method is about 350 times faster than a `for` loop!\n",
    "\n",
    "There is also a shorthand for numpy ufunc. For example:\n",
    "\n",
    "`np.multiply(ND,ND) = ND**2 = ND*ND`\n",
    "\n"
   ]
  },
  {
   "cell_type": "code",
   "execution_count": null,
   "metadata": {},
   "outputs": [],
   "source": []
  },
  {
   "cell_type": "code",
   "execution_count": null,
   "metadata": {},
   "outputs": [],
   "source": []
  }
 ],
 "metadata": {
  "kernelspec": {
   "display_name": "Python 3",
   "language": "python",
   "name": "python3"
  },
  "language_info": {
   "codemirror_mode": {
    "name": "ipython",
    "version": 3
   },
   "file_extension": ".py",
   "mimetype": "text/x-python",
   "name": "python",
   "nbconvert_exporter": "python",
   "pygments_lexer": "ipython3",
   "version": "3.8.8"
  }
 },
 "nbformat": 4,
 "nbformat_minor": 2
}
